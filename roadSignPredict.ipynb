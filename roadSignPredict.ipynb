{
 "cells": [
  {
   "cell_type": "code",
   "execution_count": 25,
   "metadata": {},
   "outputs": [],
   "source": [
    "from keras.models import load_model\n",
    "import cv2\n",
    "import numpy as np\n",
    "from keras.preprocessing import image\n",
    "import matplotlib.pyplot as plt\n",
    "import matplotlib.image as mpimg\n",
    "%matplotlib inline"
   ]
  },
  {
   "cell_type": "code",
   "execution_count": 26,
   "metadata": {},
   "outputs": [],
   "source": [
    "Classes = {'0': 0,\n",
    " '1': 1,\n",
    " '10': 2,\n",
    " '11': 3,\n",
    " '12': 4,\n",
    " '13': 5,\n",
    " '14': 6,\n",
    " '15': 7,\n",
    " '16': 8,\n",
    " '17': 9,\n",
    " '18': 10,\n",
    " '19': 11,\n",
    " '2': 12,\n",
    " '20': 13,\n",
    " '21': 14,\n",
    " '22': 15,\n",
    " '23': 16,\n",
    " '24': 17,\n",
    " '25': 18,\n",
    " '26': 19,\n",
    " '27': 20,\n",
    " '28': 21,\n",
    " '29': 22,\n",
    " '3': 23,\n",
    " '30': 24,\n",
    " '31': 25,\n",
    " '32': 26,\n",
    " '33': 27,\n",
    " '34': 28,\n",
    " '35': 29,\n",
    " '36': 30,\n",
    " '37': 31,\n",
    " '38': 32,\n",
    " '39': 33,\n",
    " '4': 34,\n",
    " '40': 35,\n",
    " '41': 36,\n",
    " '42': 37,\n",
    " '5': 38,\n",
    " '6': 39,\n",
    " '7': 40,\n",
    " '8': 41,\n",
    " '9': 42}"
   ]
  },
  {
   "cell_type": "code",
   "execution_count": 27,
   "metadata": {},
   "outputs": [],
   "source": [
    "Sign_Names = {\n",
    "    \"1\":\"Speed limit (30km/h)\",\n",
    "\"2\":\"Speed limit (50km/h)\",\n",
    "\"13\":\"Yield/Wait\",\n",
    "\"12\":\"Priority road\",\n",
    "\"38\":\"Keep right\",\n",
    "\"10\":\"No passing for vechiles over 3.5 metric tons\",\n",
    "\"4\":\"Speed limit (70km/h)\",\n",
    "\"5\":\"Speed limit (80km/h)\",\n",
    "\"25\":\"Road work\",\n",
    "\"9\":\"No passing\",\n",
    "\"7\":\"Speed limit (100km/h)\",\n",
    "\"3\":\"Speed limit (60km/h)\",\n",
    "\"8\":\"Speed limit (120km/h)\",\n",
    "\"11\":\"Right-of-way at the next intersection\",\n",
    "\"18\":\"General caution\",\n",
    "\"35\":\"Ahead only\",\n",
    "\"17\":\"No entry\",\n",
    "\"14\":\"Stop\",\n",
    "\"31\":\"Wild animals crossing\",\n",
    "\"33\":\"Turn right ahead\",\n",
    "\"15\":\"No vechiles\",\n",
    "\"26\":\"Traffic signals\",\n",
    "\"28\":\"Children crossing\",\n",
    "\"23\":\"Slippery road\",\n",
    "\"16\":\"Vechiles over 3.5 metric tons prohibited\",\n",
    "\"30\":\"Beware of ice/snow\",\n",
    "\"34\":\"Turn left ahead\",\n",
    "\"6\":\"End of speed limit (80km/h)\",\n",
    "\"22\":\"Bumpy road\",\n",
    "\"36\":\"Go straight or right\",\n",
    "\"20\":\"Dangerous curve to the right\",\n",
    "\"40\":\"Roundabout mandatory\",\n",
    "\"21\":\"Double curve\",\n",
    "\"24\":\"Road narrows on the right\",\n",
    "\"29\":\"Bicycles crossing\",\n",
    "\"39\":\"Keep left\",\n",
    "\"27\":\"Pedestrians\",\n",
    "\"32\":\"End of all speed and passing limits\",\n",
    "\"41\":\"End of no passing\",\n",
    "\"42\":\"End of no passing by vechiles over 3.5 metric tons\",\n",
    "\"0\":\"Speed limit (20km/h)\",\n",
    "\"19\":\"Dangerous curve to the left\",\n",
    "\"37\":\"Go straight or left\"\n",
    "}"
   ]
  },
  {
   "cell_type": "code",
   "execution_count": 28,
   "metadata": {},
   "outputs": [],
   "source": [
    "model_name = r'../Models/trafficSignalPredictor_20epochs_300Steps.h5'\n",
    "model = load_model(model_name)"
   ]
  },
  {
   "cell_type": "code",
   "execution_count": 29,
   "metadata": {},
   "outputs": [],
   "source": [
    "def predictTrafficSign(signBoard,model):\n",
    "    '''\n",
    "    height = signBoard.shape[0]\n",
    "    width = signBoard.shape[1]\n",
    "    FX = 50/width\n",
    "    FY = 50/height\n",
    "    print(FX,FY)\n",
    "    signBoardScaled = cv2.resize(signBoard,None,fx=FX,fy=FY)\n",
    "    print(signBoardScaled.shape)\n",
    "    signBoardScaled = signBoardScaled.reshape(1,50,50,3)\n",
    "    signBoardScaled = signBoardScaled/signBoardScaled.max()\n",
    "    '''\n",
    "    signBoardScaled = signBoard\n",
    "    class_num = model.predict_classes(signBoardScaled)\n",
    "    #print(signBoardScaled.shape)\n",
    "    return class_num"
   ]
  },
  {
   "cell_type": "code",
   "execution_count": 30,
   "metadata": {},
   "outputs": [],
   "source": [
    "img = '../../Test/01791.png'\n",
    "img_data = image.load_img(img,target_size=(50,50))\n",
    "img_data = image.img_to_array(img_data)\n",
    "img_data = np.expand_dims(img_data,axis=0)\n",
    "img_data = img_data/255\n",
    "SignClass = predictTrafficSign(img_data,model)"
   ]
  },
  {
   "cell_type": "code",
   "execution_count": 31,
   "metadata": {},
   "outputs": [
    {
     "name": "stdout",
     "output_type": "stream",
     "text": [
      "Right-of-way at the next intersection\n"
     ]
    },
    {
     "data": {
      "image/png": "[encoded data removed]",
      "text/plain": [
       "<Figure size 432x288 with 1 Axes>"
      ]
     },
     "metadata": {
      "needs_background": "light"
     },
     "output_type": "display_data"
    }
   ],
   "source": [
    "for key in Classes:\n",
    "    if(Classes[key] == SignClass):\n",
    "        FileName = '../../Meta/' + str(key) + '.png'\n",
    "        #SignImage = cv2.imread(FileName)\n",
    "        img = mpimg.imread(FileName)\n",
    "        plt.imshow(img)\n",
    "        print(Sign_Names[str(key)])"
   ]
  },
  {
   "cell_type": "code",
   "execution_count": null,
   "metadata": {},
   "outputs": [],
   "source": []
  },
  {
   "cell_type": "code",
   "execution_count": null,
   "metadata": {},
   "outputs": [],
   "source": []
  }
 ],
 "metadata": {
  "kernelspec": {
   "display_name": "Python 3",
   "language": "python",
   "name": "python3"
  },
  "language_info": {
   "codemirror_mode": {
    "name": "ipython",
    "version": 3
   },
   "file_extension": ".py",
   "mimetype": "text/x-python",
   "name": "python",
   "nbconvert_exporter": "python",
   "pygments_lexer": "ipython3",
   "version": "3.7.0"
  }
 },
 "nbformat": 4,
 "nbformat_minor": 2
}
