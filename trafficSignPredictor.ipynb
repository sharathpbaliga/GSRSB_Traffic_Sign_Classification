{
 "cells": [
  {
   "cell_type": "code",
   "execution_count": 1,
   "metadata": {},
   "outputs": [
    {
     "name": "stderr",
     "output_type": "stream",
     "text": [
      "Using TensorFlow backend.\n"
     ]
    }
   ],
   "source": [
    "from keras.models import Sequential\n",
    "from keras.layers import Dense,Conv2D,MaxPool2D,Flatten,Dropout\n",
    "from keras.preprocessing.image import ImageDataGenerator"
   ]
  },
  {
   "cell_type": "code",
   "execution_count": 2,
   "metadata": {},
   "outputs": [],
   "source": [
    "ImageDataGen = ImageDataGenerator(rotation_range=10,\n",
    "                                 width_shift_range=0.1,\n",
    "                                 height_shift_range=0.1,\n",
    "                                 rescale=1/255,\n",
    "                                 shear_range=0,\n",
    "                                 zoom_range=0.05,\n",
    "                                 horizontal_flip=False,\n",
    "                                 fill_mode='nearest',\n",
    "                                 validation_split=0.3)"
   ]
  },
  {
   "cell_type": "code",
   "execution_count": 3,
   "metadata": {},
   "outputs": [
    {
     "name": "stdout",
     "output_type": "stream",
     "text": [
      "Found 27447 images belonging to 43 classes.\n"
     ]
    }
   ],
   "source": [
    "input_size = (50,50,3)\n",
    "train_Images_gen = ImageDataGen.flow_from_directory('../../Train',batch_size=15,target_size=input_size[:2],class_mode='categorical',subset='training')"
   ]
  },
  {
   "cell_type": "code",
   "execution_count": 4,
   "metadata": {},
   "outputs": [
    {
     "name": "stdout",
     "output_type": "stream",
     "text": [
      "Found 11762 images belonging to 43 classes.\n"
     ]
    }
   ],
   "source": [
    "test_Images_gen = ImageDataGen.flow_from_directory('../../Train',batch_size=15,target_size=input_size[:2],class_mode='categorical',subset='validation')"
   ]
  },
  {
   "cell_type": "code",
   "execution_count": 21,
   "metadata": {},
   "outputs": [
    {
     "data": {
      "text/plain": [
       "{'0': 0,\n",
       " '1': 1,\n",
       " '10': 2,\n",
       " '11': 3,\n",
       " '12': 4,\n",
       " '13': 5,\n",
       " '14': 6,\n",
       " '15': 7,\n",
       " '16': 8,\n",
       " '17': 9,\n",
       " '18': 10,\n",
       " '19': 11,\n",
       " '2': 12,\n",
       " '20': 13,\n",
       " '21': 14,\n",
       " '22': 15,\n",
       " '23': 16,\n",
       " '24': 17,\n",
       " '25': 18,\n",
       " '26': 19,\n",
       " '27': 20,\n",
       " '28': 21,\n",
       " '29': 22,\n",
       " '3': 23,\n",
       " '30': 24,\n",
       " '31': 25,\n",
       " '32': 26,\n",
       " '33': 27,\n",
       " '34': 28,\n",
       " '35': 29,\n",
       " '36': 30,\n",
       " '37': 31,\n",
       " '38': 32,\n",
       " '39': 33,\n",
       " '4': 34,\n",
       " '40': 35,\n",
       " '41': 36,\n",
       " '42': 37,\n",
       " '5': 38,\n",
       " '6': 39,\n",
       " '7': 40,\n",
       " '8': 41,\n",
       " '9': 42}"
      ]
     },
     "execution_count": 21,
     "metadata": {},
     "output_type": "execute_result"
    }
   ],
   "source": [
    "train_Images_gen.class_indices"
   ]
  },
  {
   "cell_type": "code",
   "execution_count": 5,
   "metadata": {},
   "outputs": [
    {
     "name": "stdout",
     "output_type": "stream",
     "text": [
      "<class 'keras_preprocessing.image.directory_iterator.DirectoryIterator'>\n"
     ]
    }
   ],
   "source": [
    "classification_classes = 43\n",
    "train_Images_gen.class_indices\n",
    "print(type(train_Images_gen))"
   ]
  },
  {
   "cell_type": "code",
   "execution_count": 13,
   "metadata": {},
   "outputs": [],
   "source": [
    "model = Sequential()\n",
    "model.add(Conv2D(filters=32,activation='relu',input_shape=input_size,kernel_size=(4,4)))\n",
    "model.add(MaxPool2D(pool_size=(2,2)))\n",
    "model.add(Conv2D(filters=32,activation='relu',kernel_size=(4,4)))\n",
    "model.add(MaxPool2D(pool_size=(2,2)))\n",
    "\n",
    "model.add(Flatten())\n",
    "\n",
    "model.add(Dense(512,activation='relu'))\n",
    "model.add(Dropout(0.3))\n",
    "model.add(Dense(classification_classes,activation='softmax'))\n",
    "model.compile(loss='categorical_crossentropy',\n",
    "             optimizer='rmsprop',\n",
    "             metrics=['accuracy'])"
   ]
  },
  {
   "cell_type": "code",
   "execution_count": 14,
   "metadata": {},
   "outputs": [
    {
     "name": "stdout",
     "output_type": "stream",
     "text": [
      "Epoch 1/20\n",
      "300/300 [==============================] - 200s 665ms/step - loss: 2.7858 - acc: 0.2558 - val_loss: 2.1749 - val_acc: 0.3910\n",
      "Epoch 2/20\n",
      "300/300 [==============================] - 179s 596ms/step - loss: 1.7376 - acc: 0.4884 - val_loss: 1.7687 - val_acc: 0.4877\n",
      "Epoch 3/20\n",
      "300/300 [==============================] - 192s 641ms/step - loss: 1.2155 - acc: 0.6162 - val_loss: 1.3238 - val_acc: 0.5970\n",
      "Epoch 4/20\n",
      "300/300 [==============================] - 225s 750ms/step - loss: 0.9687 - acc: 0.7009 - val_loss: 1.2570 - val_acc: 0.6260\n",
      "Epoch 5/20\n",
      "300/300 [==============================] - 208s 692ms/step - loss: 0.7990 - acc: 0.7467 - val_loss: 1.0612 - val_acc: 0.6933\n",
      "Epoch 6/20\n",
      "300/300 [==============================] - 205s 682ms/step - loss: 0.6530 - acc: 0.7904 - val_loss: 0.9985 - val_acc: 0.7260\n",
      "Epoch 7/20\n",
      "300/300 [==============================] - 277s 924ms/step - loss: 0.5779 - acc: 0.8156 - val_loss: 1.0128 - val_acc: 0.7097\n",
      "Epoch 8/20\n",
      "300/300 [==============================] - 382s 1s/step - loss: 0.5165 - acc: 0.8513 - val_loss: 0.9544 - val_acc: 0.7517\n",
      "Epoch 9/20\n",
      "300/300 [==============================] - 166s 554ms/step - loss: 0.4708 - acc: 0.8618 - val_loss: 0.7977 - val_acc: 0.7834\n",
      "Epoch 10/20\n",
      "300/300 [==============================] - 150s 499ms/step - loss: 0.3978 - acc: 0.8758 - val_loss: 0.7739 - val_acc: 0.7880\n",
      "Epoch 11/20\n",
      "300/300 [==============================] - 121s 404ms/step - loss: 0.4075 - acc: 0.8778 - val_loss: 0.8284 - val_acc: 0.7830\n",
      "Epoch 12/20\n",
      "300/300 [==============================] - 123s 410ms/step - loss: 0.3532 - acc: 0.8982 - val_loss: 0.8381 - val_acc: 0.7877\n",
      "Epoch 13/20\n",
      "300/300 [==============================] - 139s 462ms/step - loss: 0.3170 - acc: 0.8989 - val_loss: 0.8223 - val_acc: 0.8098\n",
      "Epoch 14/20\n",
      "300/300 [==============================] - 248s 825ms/step - loss: 0.3579 - acc: 0.8976 - val_loss: 0.8225 - val_acc: 0.8060\n",
      "Epoch 15/20\n",
      "300/300 [==============================] - 185s 615ms/step - loss: 0.3121 - acc: 0.9124 - val_loss: 0.7470 - val_acc: 0.8277\n",
      "Epoch 16/20\n",
      "300/300 [==============================] - 177s 590ms/step - loss: 0.2947 - acc: 0.9157 - val_loss: 0.9130 - val_acc: 0.8010\n",
      "Epoch 17/20\n",
      "300/300 [==============================] - 192s 640ms/step - loss: 0.3010 - acc: 0.9167 - val_loss: 0.8720 - val_acc: 0.8209\n",
      "Epoch 18/20\n",
      "300/300 [==============================] - 271s 903ms/step - loss: 0.2793 - acc: 0.9187 - val_loss: 0.9152 - val_acc: 0.8193\n",
      "Epoch 19/20\n",
      "300/300 [==============================] - 230s 767ms/step - loss: 0.2757 - acc: 0.9238 - val_loss: 0.7601 - val_acc: 0.8283\n",
      "Epoch 20/20\n",
      "300/300 [==============================] - 263s 877ms/step - loss: 0.2388 - acc: 0.9304 - val_loss: 0.8542 - val_acc: 0.8463\n"
     ]
    }
   ],
   "source": [
    "results = model.fit_generator(train_Images_gen,epochs=20,steps_per_epoch=300,\n",
    "                              validation_data = test_Images_gen,\n",
    "                              validation_steps = 200)"
   ]
  },
  {
   "cell_type": "code",
   "execution_count": 15,
   "metadata": {},
   "outputs": [
    {
     "data": {
      "text/plain": [
       "[<matplotlib.lines.Line2D at 0x1d8aea04a90>]"
      ]
     },
     "execution_count": 15,
     "metadata": {},
     "output_type": "execute_result"
    },
    {
     "data": {
      "image/png": "[encoded data removed]",
      "text/plain": [
       "<Figure size 432x288 with 1 Axes>"
      ]
     },
     "metadata": {
      "needs_background": "light"
     },
     "output_type": "display_data"
    }
   ],
   "source": [
    "import matplotlib.pyplot as plt\n",
    "%matplotlib inline\n",
    "plt.plot(results.history['acc'])"
   ]
  },
  {
   "cell_type": "code",
   "execution_count": 16,
   "metadata": {},
   "outputs": [],
   "source": []
  },
  {
   "cell_type": "code",
   "execution_count": 17,
   "metadata": {},
   "outputs": [],
   "source": []
  },
  {
   "cell_type": "code",
   "execution_count": null,
   "metadata": {},
   "outputs": [],
   "source": []
  },
  {
   "cell_type": "code",
   "execution_count": null,
   "metadata": {},
   "outputs": [],
   "source": []
  }
 ],
 "metadata": {
  "kernelspec": {
   "display_name": "Python 3",
   "language": "python",
   "name": "python3"
  },
  "language_info": {
   "codemirror_mode": {
    "name": "ipython",
    "version": 3
   },
   "file_extension": ".py",
   "mimetype": "text/x-python",
   "name": "python",
   "nbconvert_exporter": "python",
   "pygments_lexer": "ipython3",
   "version": "3.7.0"
  }
 },
 "nbformat": 4,
 "nbformat_minor": 2
}
